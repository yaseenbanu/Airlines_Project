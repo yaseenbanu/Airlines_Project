{
 "cells": [
  {
   "cell_type": "code",
   "execution_count": 0,
   "metadata": {
    "application/vnd.databricks.v1+cell": {
     "cellMetadata": {
      "byteLimit": 2048000,
      "rowLimit": 10000
     },
     "inputWidgets": {},
     "nuid": "0f846c43-5daa-4f09-90d5-2beb37a1fe94",
     "showTitle": false,
     "title": ""
    }
   },
   "outputs": [],
   "source": [
    "from pyspark.sql.functions import *\n",
    "from pyspark.sql.window import Window"
   ]
  },
  {
   "cell_type": "code",
   "execution_count": 0,
   "metadata": {
    "application/vnd.databricks.v1+cell": {
     "cellMetadata": {
      "byteLimit": 2048000,
      "rowLimit": 10000
     },
     "inputWidgets": {},
     "nuid": "16ea67b8-c7ed-4475-a97d-80b358b7b2c7",
     "showTitle": false,
     "title": ""
    }
   },
   "outputs": [
    {
     "output_type": "stream",
     "name": "stdout",
     "output_type": "stream",
     "text": [
      "+-------+----+-----------------------+----------------+--------+-------+-----+-----+---------+\n|tailnum|year|type                   |manufacturer    |model   |engines|seats|speed|engine   |\n+-------+----+-----------------------+----------------+--------+-------+-----+-----+---------+\n|N102UW |1998|Fixed wing multi engine|AIRBUS INDUSTRIE|A320-214|2      |182  |NA   |Turbo-fan|\n|N103US |1999|Fixed wing multi engine|AIRBUS INDUSTRIE|A320-214|2      |182  |NA   |Turbo-fan|\n|N104UW |1999|Fixed wing multi engine|AIRBUS INDUSTRIE|A320-214|2      |182  |NA   |Turbo-fan|\n|N105UW |1999|Fixed wing multi engine|AIRBUS INDUSTRIE|A320-214|2      |182  |NA   |Turbo-fan|\n|N107US |1999|Fixed wing multi engine|AIRBUS INDUSTRIE|A320-214|2      |182  |NA   |Turbo-fan|\n|N108UW |1999|Fixed wing multi engine|AIRBUS INDUSTRIE|A320-214|2      |182  |NA   |Turbo-fan|\n|N109UW |1999|Fixed wing multi engine|AIRBUS INDUSTRIE|A320-214|2      |182  |NA   |Turbo-fan|\n|N110UW |1999|Fixed wing multi engine|AIRBUS INDUSTRIE|A320-214|2      |182  |NA   |Turbo-fan|\n|N111US |1999|Fixed wing multi engine|AIRBUS INDUSTRIE|A320-214|2      |182  |NA   |Turbo-fan|\n|N11206 |2000|Fixed wing multi engine|BOEING          |737-824 |2      |149  |NA   |Turbo-fan|\n|N112US |1999|Fixed wing multi engine|AIRBUS INDUSTRIE|A320-214|2      |182  |NA   |Turbo-fan|\n|N113UW |1999|Fixed wing multi engine|AIRBUS INDUSTRIE|A320-214|2      |182  |NA   |Turbo-fan|\n|N114UW |1999|Fixed wing multi engine|AIRBUS INDUSTRIE|A320-214|2      |182  |NA   |Turbo-fan|\n|N117UW |2000|Fixed wing multi engine|AIRBUS INDUSTRIE|A320-214|2      |182  |NA   |Turbo-fan|\n|N118US |2000|Fixed wing multi engine|AIRBUS INDUSTRIE|A320-214|2      |182  |NA   |Turbo-fan|\n|N119US |2000|Fixed wing multi engine|AIRBUS INDUSTRIE|A320-214|2      |182  |NA   |Turbo-fan|\n|N1200K |1998|Fixed wing multi engine|BOEING          |767-332 |2      |330  |NA   |Turbo-fan|\n|N1201P |1998|Fixed wing multi engine|BOEING          |767-332 |2      |330  |NA   |Turbo-fan|\n|N12114 |1995|Fixed wing multi engine|BOEING          |757-224 |2      |178  |NA   |Turbo-jet|\n|N121DE |1987|Fixed wing multi engine|BOEING          |767-332 |2      |330  |NA   |Turbo-fan|\n+-------+----+-----------------------+----------------+--------+-------+-----+-----+---------+\nonly showing top 20 rows\n\nOut[40]: 2628"
     ]
    }
   ],
   "source": [
    "planes_df = spark.read.csv(\"file:/databricks/driver/datasets/planes.csv\",inferSchema=True,header=True)\n",
    "planes_df.show(truncate=False)\n",
    "planes_df.count()"
   ]
  },
  {
   "cell_type": "code",
   "execution_count": 0,
   "metadata": {
    "application/vnd.databricks.v1+cell": {
     "cellMetadata": {
      "byteLimit": 2048000,
      "rowLimit": 10000
     },
     "inputWidgets": {},
     "nuid": "1113ccc8-267a-458e-bd8b-7edb51a8fd18",
     "showTitle": false,
     "title": ""
    }
   },
   "outputs": [
    {
     "output_type": "stream",
     "name": "stdout",
     "output_type": "stream",
     "text": [
      "+---+------------------------------------+----------------+-----------------+----+---+---+\n|faa|name                                |lat             |lon              |alt |tz |dst|\n+---+------------------------------------+----------------+-----------------+----+---+---+\n|04G|Lansdowne Airport                   |41.1304722      |-80.6195833      |1044|-5 |A  |\n|06A|Moton Field Municipal Airport       |32.4605722      |-85.6800278      |264 |-5 |A  |\n|06C|Schaumburg Regional                 |41.9893408      |-88.1012428      |801 |-6 |A  |\n|06N|Randall Airport                     |41.431912       |-74.3915611      |523 |-5 |A  |\n|09J|Jekyll Island Airport               |31.0744722      |-81.4277778      |11  |-4 |A  |\n|0A9|Elizabethton Municipal Airport      |36.3712222      |-82.1734167      |1593|-4 |A  |\n|0G6|Williams County Airport             |41.4673056      |-84.5067778      |730 |-5 |A  |\n|0G7|Finger Lakes Regional Airport       |42.8835647      |-76.7812318      |492 |-5 |A  |\n|0P2|Shoestring Aviation Airfield        |39.7948244      |-76.6471914      |1000|-5 |U  |\n|0S9|Jefferson County Intl               |48.0538086      |-122.8106436     |108 |-8 |A  |\n|0W3|Harford County Airport              |39.5668378      |-76.2024028      |409 |-5 |A  |\n|10C|Galt Field Airport                  |42.4028889      |-88.3751111      |875 |-6 |U  |\n|17G|Port Bucyrus-Crawford County Airport|40.7815556      |-82.9748056      |1003|-5 |A  |\n|19A|Jackson County Airport              |34.1758638      |-83.5615972      |951 |-4 |U  |\n|1A3|Martin Campbell Field Airport       |35.0158056      |-84.3468333      |1789|-4 |A  |\n|1B9|Mansfield Municipal                 |42.0001331      |-71.1967714      |122 |-5 |A  |\n|1C9|Frazier Lake Airpark                |54.0133333333333|-124.768333333333|152 |-8 |A  |\n|1CS|Clow International Airport          |41.6959744      |-88.1292306      |670 |-6 |U  |\n|1G3|Kent State Airport                  |41.1513889      |-81.4151111      |1134|-4 |A  |\n|1OH|Fortman Airport                     |40.5553253      |-84.3866186      |885 |-5 |U  |\n+---+------------------------------------+----------------+-----------------+----+---+---+\nonly showing top 20 rows\n\nOut[41]: 1397"
     ]
    }
   ],
   "source": [
    "airport_df = spark.read.csv(\"file:/databricks/driver/datasets/airports.csv\",inferSchema=True,header=True)\n",
    "airport_df.show(truncate=False)\n",
    "airport_df.count()"
   ]
  },
  {
   "cell_type": "code",
   "execution_count": 0,
   "metadata": {
    "application/vnd.databricks.v1+cell": {
     "cellMetadata": {
      "byteLimit": 2048000,
      "rowLimit": 10000
     },
     "inputWidgets": {},
     "nuid": "49a879a0-c86a-462c-b75d-b4e0c5423197",
     "showTitle": false,
     "title": ""
    }
   },
   "outputs": [
    {
     "output_type": "stream",
     "name": "stdout",
     "output_type": "stream",
     "text": [
      "+----+-----+---+--------+---------+--------+---------+-------+-------+------+------+----+--------+--------+----+------+\n|year|month|day|dep_time|dep_delay|arr_time|arr_delay|carrier|tailnum|flight|origin|dest|air_time|distance|hour|minute|\n+----+-----+---+--------+---------+--------+---------+-------+-------+------+------+----+--------+--------+----+------+\n|2014|12   |8  |658     |-7       |935     |-5       |VX     |N846VA |1780  |SEA   |LAX |132     |954     |6   |58    |\n|2014|1    |22 |1040    |5        |1505    |5        |AS     |N559AS |851   |SEA   |HNL |360     |2677    |10  |40    |\n|2014|3    |9  |1443    |-2       |1652    |2        |VX     |N847VA |755   |SEA   |SFO |111     |679     |14  |43    |\n|2014|4    |9  |1705    |45       |1839    |34       |WN     |N360SW |344   |PDX   |SJC |83      |569     |17  |5     |\n|2014|3    |9  |754     |-1       |1015    |1        |AS     |N612AS |522   |SEA   |BUR |127     |937     |7   |54    |\n|2014|1    |15 |1037    |7        |1352    |2        |WN     |N646SW |48    |PDX   |DEN |121     |991     |10  |37    |\n|2014|7    |2  |847     |42       |1041    |51       |WN     |N422WN |1520  |PDX   |OAK |90      |543     |8   |47    |\n|2014|5    |12 |1655    |-5       |1842    |-18      |VX     |N361VA |755   |SEA   |SFO |98      |679     |16  |55    |\n|2014|4    |19 |1236    |-4       |1508    |-7       |AS     |N309AS |490   |SEA   |SAN |135     |1050    |12  |36    |\n|2014|11   |19 |1812    |-3       |2352    |-4       |AS     |N564AS |26    |SEA   |ORD |198     |1721    |18  |12    |\n|2014|11   |8  |1653    |-2       |1924    |-1       |AS     |N323AS |448   |SEA   |LAX |130     |954     |16  |53    |\n|2014|8    |3  |1120    |0        |1415    |2        |AS     |N305AS |656   |SEA   |PHX |154     |1107    |11  |20    |\n|2014|10   |30 |811     |21       |1038    |29       |AS     |N433AS |608   |SEA   |LAS |127     |867     |8   |11    |\n|2014|11   |12 |2346    |-4       |217     |-28      |AS     |N765AS |121   |SEA   |ANC |183     |1448    |23  |46    |\n|2014|10   |31 |1314    |89       |1544    |111      |AS     |N713AS |306   |SEA   |SFO |129     |679     |13  |14    |\n|2014|1    |29 |2009    |3        |2159    |9        |UA     |N27205 |1458  |PDX   |SFO |90      |550     |20  |9     |\n|2014|12   |17 |2015    |50       |2150    |41       |AS     |N626AS |368   |SEA   |SMF |76      |605     |20  |15    |\n|2014|8    |11 |1017    |-3       |1613    |-7       |WN     |N8634A |827   |SEA   |MDW |216     |1733    |10  |17    |\n|2014|1    |13 |2156    |-9       |607     |-15      |AS     |N597AS |24    |SEA   |BOS |290     |2496    |21  |56    |\n|2014|6    |5  |1733    |-12      |1945    |-10      |OO     |N215AG |3488  |PDX   |BUR |111     |817     |17  |33    |\n+----+-----+---+--------+---------+--------+---------+-------+-------+------+------+----+--------+--------+----+------+\nonly showing top 20 rows\n\nOut[42]: 10000"
     ]
    }
   ],
   "source": [
    "flight_dtls_df =  spark.read.csv(\"file:/databricks/driver/datasets/flights_small.csv\",inferSchema=True,header=True)\n",
    "flight_dtls_df.show(truncate=False)\n",
    "flight_dtls_df.count()"
   ]
  },
  {
   "cell_type": "code",
   "execution_count": 0,
   "metadata": {
    "application/vnd.databricks.v1+cell": {
     "cellMetadata": {
      "byteLimit": 2048000,
      "rowLimit": 10000
     },
     "inputWidgets": {},
     "nuid": "4fbfe72c-941a-4de9-96a1-1c5e76cde545",
     "showTitle": false,
     "title": ""
    }
   },
   "outputs": [
    {
     "output_type": "stream",
     "name": "stdout",
     "output_type": "stream",
     "text": [
      "+----+-----+---+--------+---------+--------+---------+-------+-------+------+------+----+--------+--------+----+------+-------+----+-----------------------+--------------+-----------+-------+-----+-----+---------+---+-------------------+---------+-----------+---+---+---+\n|year|month|day|dep_time|dep_delay|arr_time|arr_delay|carrier|tailnum|flight|origin|dest|air_time|distance|hour|minute|tailnum|year|type                   |manufacturer  |model      |engines|seats|speed|engine   |faa|name               |lat      |lon        |alt|tz |dst|\n+----+-----+---+--------+---------+--------+---------+-------+-------+------+------+----+--------+--------+----+------+-------+----+-----------------------+--------------+-----------+-------+-----+-----+---------+---+-------------------+---------+-----------+---+---+---+\n|2014|12   |8  |658     |-7       |935     |-5       |VX     |N846VA |1780  |SEA   |LAX |132     |954     |6   |58    |N846VA |2011|Fixed wing multi engine|AIRBUS        |A320-214   |2      |182  |NA   |Turbo-fan|SEA|Seattle Tacoma Intl|47.449   |-122.309306|433|-8 |A  |\n|2014|1    |22 |1040    |5        |1505    |5        |AS     |N559AS |851   |SEA   |HNL |360     |2677    |10  |40    |N559AS |2006|Fixed wing multi engine|BOEING        |737-890    |2      |149  |NA   |Turbo-fan|SEA|Seattle Tacoma Intl|47.449   |-122.309306|433|-8 |A  |\n|2014|3    |9  |1443    |-2       |1652    |2        |VX     |N847VA |755   |SEA   |SFO |111     |679     |14  |43    |N847VA |2011|Fixed wing multi engine|AIRBUS        |A320-214   |2      |182  |NA   |Turbo-fan|SEA|Seattle Tacoma Intl|47.449   |-122.309306|433|-8 |A  |\n|2014|4    |9  |1705    |45       |1839    |34       |WN     |N360SW |344   |PDX   |SJC |83      |569     |17  |5     |N360SW |1992|Fixed wing multi engine|BOEING        |737-3H4    |2      |149  |NA   |Turbo-fan|PDX|Portland Intl      |45.588722|-122.5975  |30 |-8 |A  |\n|2014|3    |9  |754     |-1       |1015    |1        |AS     |N612AS |522   |SEA   |BUR |127     |937     |7   |54    |N612AS |1999|Fixed wing multi engine|BOEING        |737-790    |2      |151  |NA   |Turbo-jet|SEA|Seattle Tacoma Intl|47.449   |-122.309306|433|-8 |A  |\n|2014|1    |15 |1037    |7        |1352    |2        |WN     |N646SW |48    |PDX   |DEN |121     |991     |10  |37    |N646SW |1997|Fixed wing multi engine|BOEING        |737-3H4    |2      |149  |NA   |Turbo-fan|PDX|Portland Intl      |45.588722|-122.5975  |30 |-8 |A  |\n|2014|7    |2  |847     |42       |1041    |51       |WN     |N422WN |1520  |PDX   |OAK |90      |543     |8   |47    |N422WN |2002|Fixed wing multi engine|BOEING        |737-7H4    |2      |140  |NA   |Turbo-fan|PDX|Portland Intl      |45.588722|-122.5975  |30 |-8 |A  |\n|2014|5    |12 |1655    |-5       |1842    |-18      |VX     |N361VA |755   |SEA   |SFO |98      |679     |16  |55    |N361VA |2013|Fixed wing multi engine|AIRBUS        |A320-214   |2      |182  |NA   |Turbo-fan|SEA|Seattle Tacoma Intl|47.449   |-122.309306|433|-8 |A  |\n|2014|4    |19 |1236    |-4       |1508    |-7       |AS     |N309AS |490   |SEA   |SAN |135     |1050    |12  |36    |N309AS |2001|Fixed wing multi engine|BOEING        |737-990    |2      |149  |NA   |Turbo-jet|SEA|Seattle Tacoma Intl|47.449   |-122.309306|433|-8 |A  |\n|2014|11   |19 |1812    |-3       |2352    |-4       |AS     |N564AS |26    |SEA   |ORD |198     |1721    |18  |12    |N564AS |2006|Fixed wing multi engine|BOEING        |737-890    |2      |149  |NA   |Turbo-fan|SEA|Seattle Tacoma Intl|47.449   |-122.309306|433|-8 |A  |\n|2014|11   |8  |1653    |-2       |1924    |-1       |AS     |N323AS |448   |SEA   |LAX |130     |954     |16  |53    |N323AS |2004|Fixed wing multi engine|BOEING        |737-990    |2      |149  |NA   |Turbo-jet|SEA|Seattle Tacoma Intl|47.449   |-122.309306|433|-8 |A  |\n|2014|8    |3  |1120    |0        |1415    |2        |AS     |N305AS |656   |SEA   |PHX |154     |1107    |11  |20    |N305AS |2001|Fixed wing multi engine|BOEING        |737-990    |2      |149  |NA   |Turbo-jet|SEA|Seattle Tacoma Intl|47.449   |-122.309306|433|-8 |A  |\n|2014|10   |30 |811     |21       |1038    |29       |AS     |N433AS |608   |SEA   |LAS |127     |867     |8   |11    |N433AS |2013|Fixed wing multi engine|BOEING        |737-990ER  |2      |222  |NA   |Turbo-fan|SEA|Seattle Tacoma Intl|47.449   |-122.309306|433|-8 |A  |\n|2014|11   |12 |2346    |-4       |217     |-28      |AS     |N765AS |121   |SEA   |ANC |183     |1448    |23  |46    |N765AS |1992|Fixed wing multi engine|BOEING        |737-4Q8    |2      |149  |NA   |Turbo-fan|SEA|Seattle Tacoma Intl|47.449   |-122.309306|433|-8 |A  |\n|2014|10   |31 |1314    |89       |1544    |111      |AS     |N713AS |306   |SEA   |SFO |129     |679     |13  |14    |N713AS |1999|Fixed wing multi engine|BOEING        |737-490    |2      |149  |NA   |Turbo-jet|SEA|Seattle Tacoma Intl|47.449   |-122.309306|433|-8 |A  |\n|2014|1    |29 |2009    |3        |2159    |9        |UA     |N27205 |1458  |PDX   |SFO |90      |550     |20  |9     |N27205 |2000|Fixed wing multi engine|BOEING        |737-824    |2      |149  |NA   |Turbo-fan|PDX|Portland Intl      |45.588722|-122.5975  |30 |-8 |A  |\n|2014|12   |17 |2015    |50       |2150    |41       |AS     |N626AS |368   |SEA   |SMF |76      |605     |20  |15    |N626AS |2001|Fixed wing multi engine|BOEING        |737-790    |2      |151  |NA   |Turbo-jet|SEA|Seattle Tacoma Intl|47.449   |-122.309306|433|-8 |A  |\n|2014|8    |11 |1017    |-3       |1613    |-7       |WN     |N8634A |827   |SEA   |MDW |216     |1733    |10  |17    |N8634A |2014|Fixed wing multi engine|BOEING        |737-8H4    |2      |140  |NA   |Turbo-fan|SEA|Seattle Tacoma Intl|47.449   |-122.309306|433|-8 |A  |\n|2014|1    |13 |2156    |-9       |607     |-15      |AS     |N597AS |24    |SEA   |BOS |290     |2496    |21  |56    |N597AS |2008|Fixed wing multi engine|BOEING        |737-890    |2      |149  |NA   |Turbo-fan|SEA|Seattle Tacoma Intl|47.449   |-122.309306|433|-8 |A  |\n|2014|6    |5  |1733    |-12      |1945    |-10      |OO     |N215AG |3488  |PDX   |BUR |111     |817     |17  |33    |N215AG |2001|Fixed wing multi engine|BOMBARDIER INC|CL-600-2C10|2      |80   |NA   |Turbo-fan|PDX|Portland Intl      |45.588722|-122.5975  |30 |-8 |A  |\n+----+-----+---+--------+---------+--------+---------+-------+-------+------+------+----+--------+--------+----+------+-------+----+-----------------------+--------------+-----------+-------+-----+-----+---------+---+-------------------+---------+-----------+---+---+---+\nonly showing top 20 rows\n\nOut[43]: 9448"
     ]
    }
   ],
   "source": [
    "origin_df = flight_dtls_df.join(planes_df, on = [planes_df['tailnum']==flight_dtls_df['tailnum']],how='inner')\\\n",
    ".join(airport_df, on = [airport_df['faa']==flight_dtls_df['origin']],how='inner')\n",
    "origin_df.show(truncate=False)\n",
    "origin_df.count()"
   ]
  },
  {
   "cell_type": "code",
   "execution_count": 0,
   "metadata": {
    "application/vnd.databricks.v1+cell": {
     "cellMetadata": {
      "byteLimit": 2048000,
      "rowLimit": 10000
     },
     "inputWidgets": {},
     "nuid": "4d8bbd33-b1e2-4334-bcde-f2f45387b37f",
     "showTitle": false,
     "title": ""
    }
   },
   "outputs": [
    {
     "output_type": "stream",
     "name": "stdout",
     "output_type": "stream",
     "text": [
      "+----+-----+---+--------+---------+--------+---------+-------+-------+------+------+----+--------+--------+----+------+-------+----+-----------------------+--------------+-----------+-------+-----+-----+---------+---+----------------------------------+---------+-----------+----+---+---+\n|year|month|day|dep_time|dep_delay|arr_time|arr_delay|carrier|tailnum|flight|origin|dest|air_time|distance|hour|minute|tailnum|year|type                   |manufacturer  |model      |engines|seats|speed|engine   |faa|name                              |lat      |lon        |alt |tz |dst|\n+----+-----+---+--------+---------+--------+---------+-------+-------+------+------+----+--------+--------+----+------+-------+----+-----------------------+--------------+-----------+-------+-----+-----+---------+---+----------------------------------+---------+-----------+----+---+---+\n|2014|12   |8  |658     |-7       |935     |-5       |VX     |N846VA |1780  |SEA   |LAX |132     |954     |6   |58    |N846VA |2011|Fixed wing multi engine|AIRBUS        |A320-214   |2      |182  |NA   |Turbo-fan|LAX|Los Angeles Intl                  |33.942536|-118.408075|126 |-8 |A  |\n|2014|1    |22 |1040    |5        |1505    |5        |AS     |N559AS |851   |SEA   |HNL |360     |2677    |10  |40    |N559AS |2006|Fixed wing multi engine|BOEING        |737-890    |2      |149  |NA   |Turbo-fan|HNL|Honolulu Intl                     |21.318681|-157.922428|13  |-10|N  |\n|2014|3    |9  |1443    |-2       |1652    |2        |VX     |N847VA |755   |SEA   |SFO |111     |679     |14  |43    |N847VA |2011|Fixed wing multi engine|AIRBUS        |A320-214   |2      |182  |NA   |Turbo-fan|SFO|San Francisco Intl                |37.618972|-122.374889|13  |-8 |A  |\n|2014|4    |9  |1705    |45       |1839    |34       |WN     |N360SW |344   |PDX   |SJC |83      |569     |17  |5     |N360SW |1992|Fixed wing multi engine|BOEING        |737-3H4    |2      |149  |NA   |Turbo-fan|SJC|Norman Y Mineta San Jose Intl     |37.3626  |-121.929022|62  |-8 |A  |\n|2014|3    |9  |754     |-1       |1015    |1        |AS     |N612AS |522   |SEA   |BUR |127     |937     |7   |54    |N612AS |1999|Fixed wing multi engine|BOEING        |737-790    |2      |151  |NA   |Turbo-jet|BUR|Bob Hope                          |34.200667|-118.358667|778 |-8 |A  |\n|2014|1    |15 |1037    |7        |1352    |2        |WN     |N646SW |48    |PDX   |DEN |121     |991     |10  |37    |N646SW |1997|Fixed wing multi engine|BOEING        |737-3H4    |2      |149  |NA   |Turbo-fan|DEN|Denver Intl                       |39.861656|-104.673178|5431|-7 |A  |\n|2014|7    |2  |847     |42       |1041    |51       |WN     |N422WN |1520  |PDX   |OAK |90      |543     |8   |47    |N422WN |2002|Fixed wing multi engine|BOEING        |737-7H4    |2      |140  |NA   |Turbo-fan|OAK|Metropolitan Oakland Intl         |37.721278|-122.220722|9   |-8 |A  |\n|2014|5    |12 |1655    |-5       |1842    |-18      |VX     |N361VA |755   |SEA   |SFO |98      |679     |16  |55    |N361VA |2013|Fixed wing multi engine|AIRBUS        |A320-214   |2      |182  |NA   |Turbo-fan|SFO|San Francisco Intl                |37.618972|-122.374889|13  |-8 |A  |\n|2014|4    |19 |1236    |-4       |1508    |-7       |AS     |N309AS |490   |SEA   |SAN |135     |1050    |12  |36    |N309AS |2001|Fixed wing multi engine|BOEING        |737-990    |2      |149  |NA   |Turbo-jet|SAN|San Diego Intl                    |32.733556|-117.189667|17  |-8 |A  |\n|2014|11   |19 |1812    |-3       |2352    |-4       |AS     |N564AS |26    |SEA   |ORD |198     |1721    |18  |12    |N564AS |2006|Fixed wing multi engine|BOEING        |737-890    |2      |149  |NA   |Turbo-fan|ORD|Chicago Ohare Intl                |41.978603|-87.904842 |668 |-6 |A  |\n|2014|11   |8  |1653    |-2       |1924    |-1       |AS     |N323AS |448   |SEA   |LAX |130     |954     |16  |53    |N323AS |2004|Fixed wing multi engine|BOEING        |737-990    |2      |149  |NA   |Turbo-jet|LAX|Los Angeles Intl                  |33.942536|-118.408075|126 |-8 |A  |\n|2014|8    |3  |1120    |0        |1415    |2        |AS     |N305AS |656   |SEA   |PHX |154     |1107    |11  |20    |N305AS |2001|Fixed wing multi engine|BOEING        |737-990    |2      |149  |NA   |Turbo-jet|PHX|Phoenix Sky Harbor Intl           |33.434278|-112.011583|1135|-7 |N  |\n|2014|10   |30 |811     |21       |1038    |29       |AS     |N433AS |608   |SEA   |LAS |127     |867     |8   |11    |N433AS |2013|Fixed wing multi engine|BOEING        |737-990ER  |2      |222  |NA   |Turbo-fan|LAS|Mc Carran Intl                    |36.080056|-115.15225 |2141|-8 |A  |\n|2014|11   |12 |2346    |-4       |217     |-28      |AS     |N765AS |121   |SEA   |ANC |183     |1448    |23  |46    |N765AS |1992|Fixed wing multi engine|BOEING        |737-4Q8    |2      |149  |NA   |Turbo-fan|ANC|Ted Stevens Anchorage Intl        |61.174361|-149.996361|152 |-9 |A  |\n|2014|10   |31 |1314    |89       |1544    |111      |AS     |N713AS |306   |SEA   |SFO |129     |679     |13  |14    |N713AS |1999|Fixed wing multi engine|BOEING        |737-490    |2      |149  |NA   |Turbo-jet|SFO|San Francisco Intl                |37.618972|-122.374889|13  |-8 |A  |\n|2014|1    |29 |2009    |3        |2159    |9        |UA     |N27205 |1458  |PDX   |SFO |90      |550     |20  |9     |N27205 |2000|Fixed wing multi engine|BOEING        |737-824    |2      |149  |NA   |Turbo-fan|SFO|San Francisco Intl                |37.618972|-122.374889|13  |-8 |A  |\n|2014|12   |17 |2015    |50       |2150    |41       |AS     |N626AS |368   |SEA   |SMF |76      |605     |20  |15    |N626AS |2001|Fixed wing multi engine|BOEING        |737-790    |2      |151  |NA   |Turbo-jet|SMF|Sacramento Intl                   |38.695417|-121.590778|27  |-8 |A  |\n|2014|8    |11 |1017    |-3       |1613    |-7       |WN     |N8634A |827   |SEA   |MDW |216     |1733    |10  |17    |N8634A |2014|Fixed wing multi engine|BOEING        |737-8H4    |2      |140  |NA   |Turbo-fan|MDW|Chicago Midway Intl               |41.785972|-87.752417 |620 |-6 |A  |\n|2014|1    |13 |2156    |-9       |607     |-15      |AS     |N597AS |24    |SEA   |BOS |290     |2496    |21  |56    |N597AS |2008|Fixed wing multi engine|BOEING        |737-890    |2      |149  |NA   |Turbo-fan|BOS|General Edward Lawrence Logan Intl|42.364347|-71.005181 |19  |-5 |A  |\n|2014|6    |5  |1733    |-12      |1945    |-10      |OO     |N215AG |3488  |PDX   |BUR |111     |817     |17  |33    |N215AG |2001|Fixed wing multi engine|BOMBARDIER INC|CL-600-2C10|2      |80   |NA   |Turbo-fan|BUR|Bob Hope                          |34.200667|-118.358667|778 |-8 |A  |\n+----+-----+---+--------+---------+--------+---------+-------+-------+------+------+----+--------+--------+----+------+-------+----+-----------------------+--------------+-----------+-------+-----+-----+---------+---+----------------------------------+---------+-----------+----+---+---+\nonly showing top 20 rows\n\nOut[44]: 9448"
     ]
    }
   ],
   "source": [
    "dest_df = flight_dtls_df.join(planes_df, on = [planes_df['tailnum']==flight_dtls_df['tailnum']],how='inner')\\\n",
    ".join(airport_df, on = [airport_df['faa']==flight_dtls_df['dest']],how='inner')\n",
    "dest_df.show(truncate=False)\n",
    "dest_df.count()"
   ]
  },
  {
   "cell_type": "code",
   "execution_count": 0,
   "metadata": {
    "application/vnd.databricks.v1+cell": {
     "cellMetadata": {
      "byteLimit": 2048000,
      "rowLimit": 10000
     },
     "inputWidgets": {},
     "nuid": "20de4c04-b4dc-4777-8cd0-054920a18403",
     "showTitle": false,
     "title": ""
    }
   },
   "outputs": [
    {
     "output_type": "stream",
     "name": "stdout",
     "output_type": "stream",
     "text": [
      "+----+-----+---+--------+---------+--------+---------+-------+-------+------+------+----+--------+--------+----+------+-------+----+-----------------------+--------------+-----------+-------+-----+-----+---------+---+-------------------+---------+-----------+---+---+---+\n|year|month|day|dep_time|dep_delay|arr_time|arr_delay|carrier|tailnum|flight|origin|dest|air_time|distance|hour|minute|tailnum|year|type                   |manufacturer  |model      |engines|seats|speed|engine   |faa|name               |lat      |lon        |alt|tz |dst|\n+----+-----+---+--------+---------+--------+---------+-------+-------+------+------+----+--------+--------+----+------+-------+----+-----------------------+--------------+-----------+-------+-----+-----+---------+---+-------------------+---------+-----------+---+---+---+\n|2014|12   |8  |658     |-7       |935     |-5       |VX     |N846VA |1780  |SEA   |LAX |132     |954     |6   |58    |N846VA |2011|Fixed wing multi engine|AIRBUS        |A320-214   |2      |182  |NA   |Turbo-fan|SEA|Seattle Tacoma Intl|47.449   |-122.309306|433|-8 |A  |\n|2014|1    |22 |1040    |5        |1505    |5        |AS     |N559AS |851   |SEA   |HNL |360     |2677    |10  |40    |N559AS |2006|Fixed wing multi engine|BOEING        |737-890    |2      |149  |NA   |Turbo-fan|SEA|Seattle Tacoma Intl|47.449   |-122.309306|433|-8 |A  |\n|2014|3    |9  |1443    |-2       |1652    |2        |VX     |N847VA |755   |SEA   |SFO |111     |679     |14  |43    |N847VA |2011|Fixed wing multi engine|AIRBUS        |A320-214   |2      |182  |NA   |Turbo-fan|SEA|Seattle Tacoma Intl|47.449   |-122.309306|433|-8 |A  |\n|2014|4    |9  |1705    |45       |1839    |34       |WN     |N360SW |344   |PDX   |SJC |83      |569     |17  |5     |N360SW |1992|Fixed wing multi engine|BOEING        |737-3H4    |2      |149  |NA   |Turbo-fan|PDX|Portland Intl      |45.588722|-122.5975  |30 |-8 |A  |\n|2014|3    |9  |754     |-1       |1015    |1        |AS     |N612AS |522   |SEA   |BUR |127     |937     |7   |54    |N612AS |1999|Fixed wing multi engine|BOEING        |737-790    |2      |151  |NA   |Turbo-jet|SEA|Seattle Tacoma Intl|47.449   |-122.309306|433|-8 |A  |\n|2014|1    |15 |1037    |7        |1352    |2        |WN     |N646SW |48    |PDX   |DEN |121     |991     |10  |37    |N646SW |1997|Fixed wing multi engine|BOEING        |737-3H4    |2      |149  |NA   |Turbo-fan|PDX|Portland Intl      |45.588722|-122.5975  |30 |-8 |A  |\n|2014|7    |2  |847     |42       |1041    |51       |WN     |N422WN |1520  |PDX   |OAK |90      |543     |8   |47    |N422WN |2002|Fixed wing multi engine|BOEING        |737-7H4    |2      |140  |NA   |Turbo-fan|PDX|Portland Intl      |45.588722|-122.5975  |30 |-8 |A  |\n|2014|5    |12 |1655    |-5       |1842    |-18      |VX     |N361VA |755   |SEA   |SFO |98      |679     |16  |55    |N361VA |2013|Fixed wing multi engine|AIRBUS        |A320-214   |2      |182  |NA   |Turbo-fan|SEA|Seattle Tacoma Intl|47.449   |-122.309306|433|-8 |A  |\n|2014|4    |19 |1236    |-4       |1508    |-7       |AS     |N309AS |490   |SEA   |SAN |135     |1050    |12  |36    |N309AS |2001|Fixed wing multi engine|BOEING        |737-990    |2      |149  |NA   |Turbo-jet|SEA|Seattle Tacoma Intl|47.449   |-122.309306|433|-8 |A  |\n|2014|11   |19 |1812    |-3       |2352    |-4       |AS     |N564AS |26    |SEA   |ORD |198     |1721    |18  |12    |N564AS |2006|Fixed wing multi engine|BOEING        |737-890    |2      |149  |NA   |Turbo-fan|SEA|Seattle Tacoma Intl|47.449   |-122.309306|433|-8 |A  |\n|2014|11   |8  |1653    |-2       |1924    |-1       |AS     |N323AS |448   |SEA   |LAX |130     |954     |16  |53    |N323AS |2004|Fixed wing multi engine|BOEING        |737-990    |2      |149  |NA   |Turbo-jet|SEA|Seattle Tacoma Intl|47.449   |-122.309306|433|-8 |A  |\n|2014|8    |3  |1120    |0        |1415    |2        |AS     |N305AS |656   |SEA   |PHX |154     |1107    |11  |20    |N305AS |2001|Fixed wing multi engine|BOEING        |737-990    |2      |149  |NA   |Turbo-jet|SEA|Seattle Tacoma Intl|47.449   |-122.309306|433|-8 |A  |\n|2014|10   |30 |811     |21       |1038    |29       |AS     |N433AS |608   |SEA   |LAS |127     |867     |8   |11    |N433AS |2013|Fixed wing multi engine|BOEING        |737-990ER  |2      |222  |NA   |Turbo-fan|SEA|Seattle Tacoma Intl|47.449   |-122.309306|433|-8 |A  |\n|2014|11   |12 |2346    |-4       |217     |-28      |AS     |N765AS |121   |SEA   |ANC |183     |1448    |23  |46    |N765AS |1992|Fixed wing multi engine|BOEING        |737-4Q8    |2      |149  |NA   |Turbo-fan|SEA|Seattle Tacoma Intl|47.449   |-122.309306|433|-8 |A  |\n|2014|10   |31 |1314    |89       |1544    |111      |AS     |N713AS |306   |SEA   |SFO |129     |679     |13  |14    |N713AS |1999|Fixed wing multi engine|BOEING        |737-490    |2      |149  |NA   |Turbo-jet|SEA|Seattle Tacoma Intl|47.449   |-122.309306|433|-8 |A  |\n|2014|1    |29 |2009    |3        |2159    |9        |UA     |N27205 |1458  |PDX   |SFO |90      |550     |20  |9     |N27205 |2000|Fixed wing multi engine|BOEING        |737-824    |2      |149  |NA   |Turbo-fan|PDX|Portland Intl      |45.588722|-122.5975  |30 |-8 |A  |\n|2014|12   |17 |2015    |50       |2150    |41       |AS     |N626AS |368   |SEA   |SMF |76      |605     |20  |15    |N626AS |2001|Fixed wing multi engine|BOEING        |737-790    |2      |151  |NA   |Turbo-jet|SEA|Seattle Tacoma Intl|47.449   |-122.309306|433|-8 |A  |\n|2014|8    |11 |1017    |-3       |1613    |-7       |WN     |N8634A |827   |SEA   |MDW |216     |1733    |10  |17    |N8634A |2014|Fixed wing multi engine|BOEING        |737-8H4    |2      |140  |NA   |Turbo-fan|SEA|Seattle Tacoma Intl|47.449   |-122.309306|433|-8 |A  |\n|2014|1    |13 |2156    |-9       |607     |-15      |AS     |N597AS |24    |SEA   |BOS |290     |2496    |21  |56    |N597AS |2008|Fixed wing multi engine|BOEING        |737-890    |2      |149  |NA   |Turbo-fan|SEA|Seattle Tacoma Intl|47.449   |-122.309306|433|-8 |A  |\n|2014|6    |5  |1733    |-12      |1945    |-10      |OO     |N215AG |3488  |PDX   |BUR |111     |817     |17  |33    |N215AG |2001|Fixed wing multi engine|BOMBARDIER INC|CL-600-2C10|2      |80   |NA   |Turbo-fan|PDX|Portland Intl      |45.588722|-122.5975  |30 |-8 |A  |\n+----+-----+---+--------+---------+--------+---------+-------+-------+------+------+----+--------+--------+----+------+-------+----+-----------------------+--------------+-----------+-------+-----+-----+---------+---+-------------------+---------+-----------+---+---+---+\nonly showing top 20 rows\n\nOut[45]: 18896"
     ]
    }
   ],
   "source": [
    "final_df = origin_df.unionAll(dest_df)\n",
    "final_df.show(truncate=False)\n",
    "final_df.count()"
   ]
  },
  {
   "cell_type": "code",
   "execution_count": 0,
   "metadata": {
    "application/vnd.databricks.v1+cell": {
     "cellMetadata": {
      "byteLimit": 2048000,
      "rowLimit": 10000
     },
     "inputWidgets": {},
     "nuid": "a837b04d-e55d-4537-bf22-15c9f0a36103",
     "showTitle": true,
     "title": "List all the Airport names and the Flights Visited"
    }
   },
   "outputs": [
    {
     "output_type": "stream",
     "name": "stdout",
     "output_type": "stream",
     "text": [
      "+-------------------------------+-----------------+\n|Airport                        |Number of Flights|\n+-------------------------------+-----------------+\n|Seattle Tacoma Intl            |6481             |\n|Portland Intl                  |3261             |\n|San Francisco Intl             |772              |\n|Los Angeles Intl               |612              |\n|Denver Intl                    |574              |\n|Mc Carran Intl                 |520              |\n|Phoenix Sky Harbor Intl        |517              |\n|Ted Stevens Anchorage Intl     |442              |\n|Salt Lake City Intl            |395              |\n|Norman Y Mineta San Jose Intl  |369              |\n|Metropolitan Oakland Intl      |333              |\n|Sacramento Intl                |283              |\n|Chicago Ohare Intl             |271              |\n|San Diego Intl                 |270              |\n|Hartsfield Jackson Atlanta Intl|258              |\n|Minneapolis St Paul Intl       |236              |\n|George Bush Intercontinental   |220              |\n|John Wayne Arpt Orange Co      |196              |\n|Long Beach                     |172              |\n|John F Kennedy Intl            |155              |\n+-------------------------------+-----------------+\nonly showing top 20 rows\n\n"
     ]
    }
   ],
   "source": [
    "final_df.groupBy(col('name').alias('Airport')).agg(count('flight').alias(\"Number of Flights\"))\\\n",
    ".orderBy(col(\"Number of Flights\").desc())\\\n",
    ".show(truncate=False)"
   ]
  },
  {
   "cell_type": "code",
   "execution_count": 0,
   "metadata": {
    "application/vnd.databricks.v1+cell": {
     "cellMetadata": {
      "byteLimit": 2048000,
      "rowLimit": 10000
     },
     "inputWidgets": {},
     "nuid": "772036a7-b8e1-4e80-be60-1448e8d2adf2",
     "showTitle": true,
     "title": "List all the Airports - Flight Number - Number of times Flight Flown in the Airport"
    }
   },
   "outputs": [
    {
     "output_type": "stream",
     "name": "stdout",
     "output_type": "stream",
     "text": [
      "+-------------------+-------------+------------+\n|Airport            |Flight Number|Flight Flown|\n+-------------------+-------------+------------+\n|Seattle Tacoma Intl|656          |26          |\n|Seattle Tacoma Intl|1473         |14          |\n|Portland Intl      |381          |3           |\n|Portland Intl      |384          |13          |\n|Seattle Tacoma Intl|1632         |6           |\n|Seattle Tacoma Intl|147          |4           |\n|Seattle Tacoma Intl|334          |3           |\n|Seattle Tacoma Intl|1675         |1           |\n|Portland Intl      |4688         |1           |\n|Portland Intl      |403          |4           |\n|Seattle Tacoma Intl|1494         |1           |\n|Seattle Tacoma Intl|1542         |23          |\n|Seattle Tacoma Intl|3677         |5           |\n|Portland Intl      |1584         |2           |\n|Seattle Tacoma Intl|1704         |1           |\n|Portland Intl      |1414         |4           |\n|Seattle Tacoma Intl|294          |3           |\n|Seattle Tacoma Intl|2904         |1           |\n|Portland Intl      |421          |1           |\n|Seattle Tacoma Intl|256          |2           |\n+-------------------+-------------+------------+\nonly showing top 20 rows\n\n"
     ]
    }
   ],
   "source": [
    "final_df.groupBy(col('name').alias('Airport'),col('flight').alias(\"Flight Number\"))\\\n",
    ".agg(count('flight').alias(\"Flight Flown\"))\\\n",
    ".show(truncate=False)"
   ]
  },
  {
   "cell_type": "markdown",
   "metadata": {
    "application/vnd.databricks.v1+cell": {
     "cellMetadata": {
      "byteLimit": 2048000,
      "rowLimit": 10000
     },
     "inputWidgets": {},
     "nuid": "299eff16-0eca-4aae-8134-356cc757949d",
     "showTitle": false,
     "title": ""
    }
   },
   "source": [
    "### Questions on Busiest Airport"
   ]
  },
  {
   "cell_type": "code",
   "execution_count": 0,
   "metadata": {
    "application/vnd.databricks.v1+cell": {
     "cellMetadata": {
      "byteLimit": 2048000,
      "rowLimit": 10000
     },
     "inputWidgets": {},
     "nuid": "a5160233-0874-42f9-991a-f465712535ba",
     "showTitle": true,
     "title": "Which is the Busiest Airport and the Number of Flight trips??"
    }
   },
   "outputs": [
    {
     "output_type": "stream",
     "name": "stdout",
     "output_type": "stream",
     "text": [
      "+-------------------+-----------------+\n|Airport            |Number of Flights|\n+-------------------+-----------------+\n|Seattle Tacoma Intl|6481             |\n+-------------------+-----------------+\n\n"
     ]
    }
   ],
   "source": [
    "busiest_airport_df = final_df.groupBy(col('name').alias('Airport')).agg(count('flight').alias(\"Number of Flights\"))\\\n",
    ".orderBy(col(\"Number of Flights\").desc())\\\n",
    ".limit(1)\n",
    "\n",
    "busiest_airport_df.show(truncate=False)"
   ]
  },
  {
   "cell_type": "code",
   "execution_count": 0,
   "metadata": {
    "application/vnd.databricks.v1+cell": {
     "cellMetadata": {
      "byteLimit": 2048000,
      "rowLimit": 10000
     },
     "inputWidgets": {},
     "nuid": "99a93197-09df-4136-a529-56bfeed2bc3b",
     "showTitle": true,
     "title": "Find the flights with the maximum trips at the Busiest airport"
    }
   },
   "outputs": [
    {
     "output_type": "stream",
     "name": "stdout",
     "output_type": "stream",
     "text": [
      "+------+-----------+\n|flight|Occurrences|\n+------+-----------+\n|   614|         33|\n|   664|         33|\n|   616|         33|\n+------+-----------+\n\n"
     ]
    }
   ],
   "source": [
    "# Extract the busiest airport name\n",
    "busiest_airport_name = busiest_airport_df.select(\"Airport\").first()[0]\n",
    "\n",
    "window_spec = Window.orderBy(desc(\"Occurrences\"))\n",
    "\n",
    "max_flown_flight_df = (\n",
    "    final_df\n",
    "    .filter(col('name') == busiest_airport_name)\n",
    "    .groupBy('flight')\n",
    "    .agg(count('flight').alias(\"Occurrences\"))\n",
    "    .withColumn(\"dense_rank\", dense_rank().over(window_spec))\n",
    "    .filter(col(\"dense_rank\") == 1)  # Select rows with rank 1 (max occurrences)\n",
    "    .drop(\"dense_rank\")\n",
    ")\n",
    "max_flown_flight_df.show()"
   ]
  },
  {
   "cell_type": "code",
   "execution_count": 0,
   "metadata": {
    "application/vnd.databricks.v1+cell": {
     "cellMetadata": {
      "byteLimit": 2048000,
      "rowLimit": 10000
     },
     "inputWidgets": {},
     "nuid": "d236fe50-eb6c-452e-a1fc-d6ea3619f8f2",
     "showTitle": true,
     "title": "Which Year did the Busiest Airport had most Flown Flights"
    }
   },
   "outputs": [
    {
     "output_type": "stream",
     "name": "stdout",
     "output_type": "stream",
     "text": [
      "+-------------------+----+----------+\n|Airport            |year|Occurences|\n+-------------------+----+----------+\n|Seattle Tacoma Intl|2001|581       |\n+-------------------+----+----------+\n\n"
     ]
    }
   ],
   "source": [
    "# Extract the busiest airport name\n",
    "busiest_airport_name = busiest_airport_df.select(\"Airport\").first()[0]\n",
    "\n",
    "window_spec = Window.orderBy(desc(\"Occurences\"))\n",
    "\n",
    "busiest_airport_year = (\n",
    "    final_df.groupBy(col('name').alias('Airport'),planes_df['year'])\n",
    "    .agg(count('flight').alias(\"Occurences\"))\n",
    "    .orderBy(col(\"Occurences\").desc())\n",
    "    .withColumn(\"dense_rank\", dense_rank().over(window_spec))\n",
    "    .filter(col(\"dense_rank\") == 1)  # Select rows with rank 1 (max occurrences)\n",
    "    .drop(\"dense_rank\")\n",
    ")\n",
    "\n",
    "busiest_airport_year.show(truncate=False)"
   ]
  },
  {
   "cell_type": "code",
   "execution_count": 0,
   "metadata": {
    "application/vnd.databricks.v1+cell": {
     "cellMetadata": {
      "byteLimit": 2048000,
      "rowLimit": 10000
     },
     "inputWidgets": {},
     "nuid": "3a096e1f-bf94-4012-9779-c239f70f4cba",
     "showTitle": true,
     "title": "Which flight flown for maximum time on which day"
    }
   },
   "outputs": [
    {
     "output_type": "stream",
     "name": "stdout",
     "output_type": "stream",
     "text": [
      "+------+-------+------+----+-------------------+--------+\n|flight|tailnum|origin|dest|arr_time           |air_time|\n+------+-------+------+----+-------------------+--------+\n|1780  |N846VA |SEA   |LAX |2014-12-08 06:58:00|132     |\n|851   |N559AS |SEA   |HNL |2014-01-22 10:40:00|360     |\n|755   |N847VA |SEA   |SFO |2014-03-09 14:43:00|111     |\n|344   |N360SW |PDX   |SJC |2014-04-09 17:05:00|83      |\n|522   |N612AS |SEA   |BUR |2014-03-09 07:54:00|127     |\n|48    |N646SW |PDX   |DEN |2014-01-15 10:37:00|121     |\n|1520  |N422WN |PDX   |OAK |2014-07-02 08:47:00|90      |\n|755   |N361VA |SEA   |SFO |2014-05-12 16:55:00|98      |\n|490   |N309AS |SEA   |SAN |2014-04-19 12:36:00|135     |\n|26    |N564AS |SEA   |ORD |2014-11-19 18:12:00|198     |\n|448   |N323AS |SEA   |LAX |2014-11-08 16:53:00|130     |\n|656   |N305AS |SEA   |PHX |2014-08-03 11:20:00|154     |\n|608   |N433AS |SEA   |LAS |2014-10-30 08:11:00|127     |\n|121   |N765AS |SEA   |ANC |2014-11-12 23:46:00|183     |\n|306   |N713AS |SEA   |SFO |2014-10-31 13:14:00|129     |\n|1458  |N27205 |PDX   |SFO |2014-01-29 20:09:00|90      |\n|368   |N626AS |SEA   |SMF |2014-12-17 20:15:00|76      |\n|827   |N8634A |SEA   |MDW |2014-08-11 10:17:00|216     |\n|24    |N597AS |SEA   |BOS |2014-01-13 21:56:00|290     |\n|3488  |N215AG |PDX   |BUR |2014-06-05 17:33:00|111     |\n+------+-------+------+----+-------------------+--------+\nonly showing top 20 rows\n\n"
     ]
    }
   ],
   "source": [
    "# Combine 'year', 'month', and 'day' columns to create a 'date' column\n",
    "planes_flown_time = flight_dtls_df.withColumn(\"arr_time\", to_timestamp(concat(col(\"year\"), lit(\"-\"), col(\"month\"), lit(\"-\"), col(\"day\"), lit(\" \"), col(\"hour\"), lit(\":\"), col(\"minute\"))))\n",
    "\n",
    "planes_flown_time.select('flight','tailnum','origin','dest','arr_time','air_time').show(truncate=False)"
   ]
  },
  {
   "cell_type": "markdown",
   "metadata": {
    "application/vnd.databricks.v1+cell": {
     "cellMetadata": {
      "byteLimit": 2048000,
      "rowLimit": 10000
     },
     "inputWidgets": {},
     "nuid": "0eba771d-feeb-459d-9dba-f092a24119ec",
     "showTitle": false,
     "title": ""
    }
   },
   "source": [
    "### Questions on Airlines Punctuality"
   ]
  },
  {
   "cell_type": "code",
   "execution_count": 0,
   "metadata": {
    "application/vnd.databricks.v1+cell": {
     "cellMetadata": {
      "byteLimit": 2048000,
      "rowLimit": 10000
     },
     "inputWidgets": {},
     "nuid": "4ca538ea-a1dd-4a76-9655-2659873a22d0",
     "showTitle": true,
     "title": "Calculate the average departure delay and arrival delay for each airline."
    }
   },
   "outputs": [
    {
     "output_type": "stream",
     "name": "stdout",
     "output_type": "stream",
     "text": [
      "+-------+------------------+-------------------+\n|carrier|     avg_dep_delay|      avg_arr_delay|\n+-------+------------------+-------------------+\n|     UA| 9.944111776447105|  2.982017982017982|\n|     AA|16.733333333333334| 10.733333333333333|\n|     B6| 7.148325358851674|  2.813397129186603|\n|     DL| 6.466604823747681| 1.4372093023255814|\n|     OO| 3.553062985332183| 1.9644405897658284|\n|     F9| 6.516666666666667|  5.438888888888889|\n|     US| 2.692957746478873|-1.7859154929577465|\n|     HA| 2.958904109589041| 2.2816901408450705|\n|     AS|3.0360769641902725| 0.6581905781584583|\n|     VX| 7.161290322580645|  1.564516129032258|\n|     WN|12.071377072819034| 6.0592913955169925|\n+-------+------------------+-------------------+\n\n"
     ]
    }
   ],
   "source": [
    "airline_performance = (\n",
    "    final_df.groupBy(\"carrier\")\n",
    "    .agg(\n",
    "        avg(\"dep_delay\").alias(\"avg_dep_delay\"),\n",
    "        avg(\"arr_delay\").alias(\"avg_arr_delay\")\n",
    "    )\n",
    ")\n",
    "\n",
    "airline_performance.show()"
   ]
  },
  {
   "cell_type": "code",
   "execution_count": 0,
   "metadata": {
    "application/vnd.databricks.v1+cell": {
     "cellMetadata": {
      "byteLimit": 2048000,
      "rowLimit": 10000
     },
     "inputWidgets": {},
     "nuid": "ae04f569-994c-402e-aca5-269e02e5e5c3",
     "showTitle": true,
     "title": "Identify the airline with the highest percentage of on-time departures"
    }
   },
   "outputs": [
    {
     "output_type": "stream",
     "name": "stdout",
     "output_type": "stream",
     "text": [
      "+-------+-----------------------------+\n|carrier|on_time_departures_percentage|\n+-------+-----------------------------+\n|     HA|           0.8082191780821918|\n+-------+-----------------------------+\n\n"
     ]
    }
   ],
   "source": [
    "on_time_departures_percentage = (\n",
    "    final_df.groupBy(\"carrier\")\n",
    "    .agg((count(when(col(\"dep_delay\") <= 0, \"dep_delay\")) / count(\"*\")).alias(\"on_time_departures_percentage\"))\n",
    "    .orderBy(col(\"on_time_departures_percentage\").desc())\n",
    "    .limit(1)\n",
    ")\n",
    "\n",
    "on_time_departures_percentage.show()"
   ]
  },
  {
   "cell_type": "code",
   "execution_count": 0,
   "metadata": {
    "application/vnd.databricks.v1+cell": {
     "cellMetadata": {
      "byteLimit": 2048000,
      "rowLimit": 10000
     },
     "inputWidgets": {},
     "nuid": "455e8a91-929e-4dae-a238-433298337cc1",
     "showTitle": true,
     "title": "Identify the airline with the highest percentage of on-time arrivals"
    }
   },
   "outputs": [
    {
     "output_type": "stream",
     "name": "stdout",
     "output_type": "stream",
     "text": [
      "+-------+---------------------------+\n|carrier|on_time_arrivals_percentage|\n+-------+---------------------------+\n|     AA|         0.7777777777777778|\n+-------+---------------------------+\n\n"
     ]
    }
   ],
   "source": [
    "on_time_arrivals_percentage = (\n",
    "    final_df.groupBy(\"carrier\")\n",
    "    .agg((count(when(col(\"arr_delay\") <= 0, \"arr_delay\")) / count(\"*\")).alias(\"on_time_arrivals_percentage\"))\n",
    "    .orderBy(col(\"on_time_arrivals_percentage\").desc())\n",
    "    .limit(1)\n",
    ")\n",
    "\n",
    "on_time_arrivals_percentage.show()"
   ]
  }
 ],
 "metadata": {
  "application/vnd.databricks.v1+notebook": {
   "dashboards": [
    {
     "elements": [
      {
       "dashboardResultIndex": 0,
       "elementNUID": "4d8bbd33-b1e2-4334-bcde-f2f45387b37f",
       "elementType": "command",
       "guid": "d01b34e0-15cc-4ae4-ba5c-c9398fd4cc8e",
       "options": null,
       "position": {
        "height": 15,
        "width": 24,
        "x": 0,
        "y": 1,
        "z": null
       },
       "resultIndex": null
      }
     ],
     "globalVars": {},
     "guid": "",
     "layoutOption": {
      "grid": true,
      "stack": false
     },
     "nuid": "06e87709-3938-467d-9673-88c58107d752",
     "origId": 2427905134666878,
     "title": "Air travel Dashboard",
     "version": "DashboardViewV1",
     "width": 4000
    }
   ],
   "language": "python",
   "notebookMetadata": {
    "mostRecentlyExecutedCommandWithImplicitDF": {
     "commandId": -1,
     "dataframes": [
      "_sqldf"
     ]
    },
    "pythonIndentUnit": 4
   },
   "notebookName": "Air Travel",
   "widgets": {}
  }
 },
 "nbformat": 4,
 "nbformat_minor": 0
}
